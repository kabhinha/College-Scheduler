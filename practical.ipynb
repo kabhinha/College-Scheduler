{
 "cells": [
  {
   "cell_type": "code",
   "execution_count": 1,
   "metadata": {},
   "outputs": [],
   "source": [
    "import pandas as pd\n",
    "import numpy as np\n",
    "import os"
   ]
  },
  {
   "cell_type": "code",
   "execution_count": 2,
   "metadata": {},
   "outputs": [],
   "source": [
    "path = \"./data/2ND YEAR ROLL LIST.xlsx\"\n",
    "aktu = 120\n",
    "ours = 100\n",
    "session = \"2021\""
   ]
  },
  {
   "cell_type": "markdown",
   "metadata": {},
   "source": [
    "# Making groups data"
   ]
  },
  {
   "cell_type": "code",
   "execution_count": 3,
   "metadata": {},
   "outputs": [],
   "source": [
    "def preprocessData(path):\n",
    "    \"\"\"Takes the MultiSection file path and return the combine sorted dataframe and its length\"\"\"\n",
    "    FILE = pd.ExcelFile(path)\n",
    "    dfs = [list((iD, pd.read_excel(path, sheet_name=i))) for iD,i in enumerate(FILE.sheet_names) if \"LATERAL\" not in i]\n",
    "    for i in range(len(dfs)):\n",
    "        dfs[i][1]=dfs[i][1][2:]\n",
    "        dfs[i][1].columns = dfs[i][1].loc[2, dfs[i][1].columns]\n",
    "        for j in dfs[i][1].columns:\n",
    "            if j not in [\"Roll No.\", \"S.No.\"]:\n",
    "                del dfs[i][1][j]\n",
    "        dfs[i][1]=dfs[i][1][1:]\n",
    "        dfs[i][1]=dfs[i][1].set_index(\"S.No.\")\n",
    "        dfs[i][1][\"Batch\"]=np.nan\n",
    "\n",
    "    df = pd.concat([i[1] for i in dfs])\n",
    "    df = df.sort_values(\"Roll No.\")\n",
    "    df = df.astype({\"Roll No.\":str})\n",
    "    len_df = len(df)\n",
    "    df.index = [i+1 for i in range(len_df)]\n",
    "    return df, len_df"
   ]
  },
  {
   "cell_type": "code",
   "execution_count": 4,
   "metadata": {},
   "outputs": [],
   "source": [
    "def isAlloted(SUB:str, LAB:str, Date:str, GROUP:str=\"OLD\")->int:\n",
    "    \"\"\"\n",
    "    Checks weather lab is alloted to a subject on a date or not\n",
    "    returns\n",
    "    0: Not Alloted\n",
    "    1: ALL Alloted(Make Schdule)\n",
    "    2: Lab Alloted\n",
    "    3: Group Alloted\n",
    "    4: Group performed\n",
    "    \"\"\"\n",
    "    alloted = []\n",
    "    global batch_no\n",
    "    for i in next(os.walk(\"./data/Alloted/\"))[2]:\n",
    "        sub = i.split()[0]\n",
    "        lab = \"Lab \"+ i.split()[2]\n",
    "        date = i.split()[3][:-5]\n",
    "        allotedGroups = list(pd.read_excel(f\"./data/Alloted/{i}\")[\"Batch\"].value_counts().to_dict().keys())\n",
    "        alloted.append((sub, lab, date, allotedGroups))\n",
    "    f = 0\n",
    "    for i in alloted:\n",
    "        if SUB==i[0] and LAB==i[1] and Date==i[2] and GROUP in i[3]: # Make Schedule\n",
    "            f = 1\n",
    "            break\n",
    "        elif SUB!=i[0] and LAB==i[1] and Date==i[2] and (GROUP not in i[3] or GROUP in i[3]): # Change Lab\n",
    "            f = 2\n",
    "            break\n",
    "        elif SUB!=i[0] and LAB!=i[1] and Date==i[2] and GROUP in i[3]: # Group is alloted already\n",
    "            f = 3\n",
    "            break\n",
    "        elif SUB==i[0] and (LAB==i[1] or LAB!=i[1]) and (Date!=i[2] or Date==i[2]) and GROUP in i[3]:\n",
    "            f=4\n",
    "            break\n",
    "    if f==1:\n",
    "        grps_path = f\"./data/Alloted/{i[0]} {i[1]} {i[2]}.xlsx\"\n",
    "        return (f, grps_path)\n",
    "    return f"
   ]
  },
  {
   "cell_type": "code",
   "execution_count": 5,
   "metadata": {},
   "outputs": [],
   "source": [
    "def display():\n",
    "    alloted = []\n",
    "    for i in next(os.walk(\"./data/Alloted/\"))[2]:\n",
    "        sub = i.split()[0]\n",
    "        lab = \"Lab \"+ i.split()[2]\n",
    "        date = i.split()[3][:-5]\n",
    "        allotedGroups = list(pd.read_excel(f\"./data/Alloted/{i}\")[\"Batch\"].value_counts().to_dict().keys())\n",
    "        alloted.append((sub, lab, date, allotedGroups))\n",
    "    return alloted"
   ]
  },
  {
   "cell_type": "code",
   "execution_count": 6,
   "metadata": {},
   "outputs": [],
   "source": [
    "def display_dir():\n",
    "    alloted = []\n",
    "    for i in next(os.walk(\"./data/Alloted/\"))[2]:\n",
    "        sub = i.split()[0]\n",
    "        lab = \"Lab \"+ i.split()[2]\n",
    "        date = i.split()[3][:-5]\n",
    "        allotedGroups = list(pd.read_excel(f\"./data/Alloted/{i}\")[\"Batch\"].value_counts().to_dict().keys())\n",
    "        alloted.append((sub, lab, date, allotedGroups))\n",
    "    a = []\n",
    "    b=[]\n",
    "    for i in range(len(alloted)):\n",
    "        for j in range(4):\n",
    "            a.append((alloted[i][0], alloted[i][1], alloted[i][2], np.nan, np.nan, slots[j]))\n",
    "            b.append((alloted[i][3][j]))\n",
    "    a = pd.MultiIndex.from_tuples(a)\n",
    "    b = pd.DataFrame(b, index=a, columns=[\"Groups\"])\n",
    "    return b"
   ]
  },
  {
   "cell_type": "code",
   "execution_count": 7,
   "metadata": {},
   "outputs": [],
   "source": [
    "def display_dir():\n",
    "    global alloted\n",
    "    alloted = []\n",
    "    for i in next(os.walk(\"./data/Alloted/\"))[2]:\n",
    "        sub = i.split()[0]\n",
    "        lab = \"Lab \"+ i.split()[2]\n",
    "        date = i.split()[3][:-5]\n",
    "        allotedGroups = list(pd.read_excel(f\"./data/Alloted/{i}\")[\"Batch\"].value_counts().to_dict().keys())\n",
    "        alloted.append((sub, lab, date, allotedGroups))\n",
    "    a = []\n",
    "    b=[]\n",
    "    for i in range(len(alloted)):\n",
    "        for j in range(len(alloted[i][3])):\n",
    "            a.append((alloted[i][0], alloted[i][1], alloted[i][2], np.nan, np.nan, slots[j]))\n",
    "            b.append((alloted[i][3][j]))\n",
    "    a = pd.MultiIndex.from_tuples(a)\n",
    "    b = pd.DataFrame(b, index=a, columns=[\"Groups\"])\n",
    "    return b"
   ]
  },
  {
   "cell_type": "code",
   "execution_count": 12,
   "metadata": {},
   "outputs": [
    {
     "data": {
      "text/plain": [
       "[('COA', 'Lab 5', '20-02-2024', ['G1', 'G2', 'G3', 'G4'])]"
      ]
     },
     "execution_count": 12,
     "metadata": {},
     "output_type": "execute_result"
    }
   ],
   "source": [
    "display()"
   ]
  },
  {
   "cell_type": "code",
   "execution_count": 13,
   "metadata": {},
   "outputs": [
    {
     "data": {
      "text/plain": [
       "9"
      ]
     },
     "execution_count": 13,
     "metadata": {},
     "output_type": "execute_result"
    }
   ],
   "source": [
    "289//30"
   ]
  },
  {
   "cell_type": "code",
   "execution_count": 8,
   "metadata": {},
   "outputs": [],
   "source": [
    "def updateBatch():\n",
    "    with open(\"./batch.txt\", \"r+\") as f:\n",
    "        global batch_no, ic\n",
    "        if batch_no !=0 and ic!=1:\n",
    "            f.write(f\"{batch_no}, {ic}\")\n",
    "            return\n",
    "        batch_no, ic = f.read().split()\n",
    "        batch_no = int(batch_no[0])\n",
    "        ic = int(ic)"
   ]
  },
  {
   "cell_type": "code",
   "execution_count": 103,
   "metadata": {},
   "outputs": [],
   "source": [
    "batch_no, ic = 8, 241\n",
    "updateBatch()"
   ]
  },
  {
   "cell_type": "code",
   "execution_count": 10,
   "metadata": {},
   "outputs": [],
   "source": [
    "slots = {\n",
    "    0:\"9:00-10:30\",\n",
    "    1:\"10:30-12:00\",\n",
    "    2:\"1:00-2:30\",\n",
    "    3:\"2:30-4:00\"\n",
    "}"
   ]
  },
  {
   "cell_type": "code",
   "execution_count": 111,
   "metadata": {},
   "outputs": [],
   "source": [
    "display_dir().to_excel(\n",
    "    \"./data/output.xlsx\",\n",
    "    sheet_name=\"ouput\",\n",
    "    index_label=[\"Subject\", \"Lab\", \"Date\", \"Internal Faculty\", \"External Faculty\", \"Time\"])"
   ]
  },
  {
   "cell_type": "code",
   "execution_count": 125,
   "metadata": {},
   "outputs": [
    {
     "ename": "IndexError",
     "evalue": "list index out of range",
     "output_type": "error",
     "traceback": [
      "\u001b[1;31m---------------------------------------------------------------------------\u001b[0m",
      "\u001b[1;31mIndexError\u001b[0m                                Traceback (most recent call last)",
      "\u001b[1;32me:\\Users\\HP\\Desktop\\aalix clg\\projects\\IMSECCSE\\practical schedular\\practical.ipynb Cell 11\u001b[0m line \u001b[0;36m1\n\u001b[1;32m----> <a href='vscode-notebook-cell:/e%3A/Users/HP/Desktop/aalix%20clg/projects/IMSECCSE/practical%20schedular/practical.ipynb#X33sZmlsZQ%3D%3D?line=0'>1</a>\u001b[0m display_dir()\n",
      "\u001b[1;32me:\\Users\\HP\\Desktop\\aalix clg\\projects\\IMSECCSE\\practical schedular\\practical.ipynb Cell 11\u001b[0m line \u001b[0;36m1\n\u001b[0;32m     <a href='vscode-notebook-cell:/e%3A/Users/HP/Desktop/aalix%20clg/projects/IMSECCSE/practical%20schedular/practical.ipynb#X33sZmlsZQ%3D%3D?line=11'>12</a>\u001b[0m     \u001b[39mfor\u001b[39;00m j \u001b[39min\u001b[39;00m \u001b[39mrange\u001b[39m(\u001b[39m4\u001b[39m):\n\u001b[0;32m     <a href='vscode-notebook-cell:/e%3A/Users/HP/Desktop/aalix%20clg/projects/IMSECCSE/practical%20schedular/practical.ipynb#X33sZmlsZQ%3D%3D?line=12'>13</a>\u001b[0m         a\u001b[39m.\u001b[39mappend((alloted[i][\u001b[39m0\u001b[39m], alloted[i][\u001b[39m1\u001b[39m], alloted[i][\u001b[39m2\u001b[39m], np\u001b[39m.\u001b[39mnan, np\u001b[39m.\u001b[39mnan, slots[j]))\n\u001b[1;32m---> <a href='vscode-notebook-cell:/e%3A/Users/HP/Desktop/aalix%20clg/projects/IMSECCSE/practical%20schedular/practical.ipynb#X33sZmlsZQ%3D%3D?line=13'>14</a>\u001b[0m         b\u001b[39m.\u001b[39mappend((alloted[i][\u001b[39m3\u001b[39;49m][j]))\n\u001b[0;32m     <a href='vscode-notebook-cell:/e%3A/Users/HP/Desktop/aalix%20clg/projects/IMSECCSE/practical%20schedular/practical.ipynb#X33sZmlsZQ%3D%3D?line=14'>15</a>\u001b[0m a \u001b[39m=\u001b[39m pd\u001b[39m.\u001b[39mMultiIndex\u001b[39m.\u001b[39mfrom_tuples(a)\n\u001b[0;32m     <a href='vscode-notebook-cell:/e%3A/Users/HP/Desktop/aalix%20clg/projects/IMSECCSE/practical%20schedular/practical.ipynb#X33sZmlsZQ%3D%3D?line=15'>16</a>\u001b[0m b \u001b[39m=\u001b[39m pd\u001b[39m.\u001b[39mDataFrame(b, index\u001b[39m=\u001b[39ma, columns\u001b[39m=\u001b[39m[\u001b[39m\"\u001b[39m\u001b[39mGroups\u001b[39m\u001b[39m\"\u001b[39m])\n",
      "\u001b[1;31mIndexError\u001b[0m: list index out of range"
     ]
    }
   ],
   "source": [
    "display_dir()"
   ]
  },
  {
   "cell_type": "code",
   "execution_count": 34,
   "metadata": {},
   "outputs": [],
   "source": [
    "def makeGroups(df, len_df, date, sub, lab, aktu=1, initalize=0):\n",
    "    \"\"\"\n",
    "    Make groups and returns the allocation details\n",
    "    0: Groups are make successfully (Also return grouped df)\n",
    "    1: All performed\n",
    "    2: Lab Alloted\n",
    "    3: Group Alloted\n",
    "    \"\"\"\n",
    "    total_1_day = 120\n",
    "    if aktu==0:\n",
    "        total_1_day=100\n",
    "    global batch_no,ic\n",
    "    if initalize==1:\n",
    "        if os.path.exists(f\"./data/Alloted/{sub} {lab} {date}.xlsx\"):\n",
    "            os.remove(f\"./data/Alloted/{sub} {lab} {date}.xlsx\")\n",
    "        batch_no, ic=0, 1\n",
    "    else:\n",
    "        batch_no = max(int(i[1]) for i in list(pd.read_excel(f\"./data/Alloted/{sub} {lab} {date}.xlsx\")[\"Batch\"].value_counts().to_dict().keys()))\n",
    "        ic = len(pd.read_excel(f\"./data/Alloted/{sub} {lab} {date}.xlsx\"))+1\n",
    "    batchCounter = batch_no\n",
    "    indexCounter= ic\n",
    "    if batchCounter<(len_df//30-1) and isAlloted(sub, lab, date, f\"G{batch_no+1}\") in [0, 3, 4]:\n",
    "        if isAlloted(sub, lab, date, f\"G{batch_no+1}\") in [3, 4]:\n",
    "            while isAlloted(sub, lab, date, f\"G{batchCounter+1}\") in [3, 4]:\n",
    "                print(\"Batch:\", batchCounter+1, \"Performed\", indexCounter)\n",
    "                batchCounter +=1\n",
    "                indexCounter += 30\n",
    "            if batchCounter+1==len_df//30+1:\n",
    "                return 1\n",
    "        for i in range(1,total_1_day//30+1):\n",
    "            for j in range(indexCounter, indexCounter+30,1):\n",
    "                batch_no=batchCounter+i\n",
    "                allocation = isAlloted(sub, lab, date, f\"G{batch_no}\")\n",
    "                if allocation==0:\n",
    "                    df.loc[j,\"Batch\"] = f\"G{batch_no}\"\n",
    "            indexCounter += 30\n",
    "        ic=indexCounter\n",
    "        df = df.dropna()\n",
    "        df.to_excel(f\"./data/Alloted/{sub} {lab} {date}.xlsx\", index=False)\n",
    "        return 0, df\n",
    "    elif (len_df/30!=0) and isAlloted(sub, lab, date, \"Other Dept.\") in [0, 3, 4]:\n",
    "        if isAlloted(sub, lab, date, f\"G{batchCounter+1}\") in [3, 4]:\n",
    "            return 1\n",
    "        for i in range(1,total_1_day//30+1):\n",
    "            for j in range(indexCounter, indexCounter+30,1):\n",
    "                batch_no=batchCounter+i\n",
    "                allocation = isAlloted(sub, lab, date, f\"G{batch_no}\")\n",
    "                if allocation==0:\n",
    "                    df.loc[j,\"Batch\"] = \"Other Dept.\"\n",
    "            indexCounter += 30\n",
    "        ic=indexCounter\n",
    "        df = df.dropna()\n",
    "        df.to_excel(f\"./data/Alloted/{sub} {lab} {date}.xlsx\", index=False)\n",
    "        return 0, df\n",
    "    else:\n",
    "        return isAlloted(sub, lab, date, f\"G{batch_no+1}\")\n"
   ]
  },
  {
   "cell_type": "markdown",
   "metadata": {},
   "source": [
    "Now, we are capable of creating the groups.  \n",
    "with all itteration it increment automatically"
   ]
  },
  {
   "cell_type": "code",
   "execution_count": 132,
   "metadata": {},
   "outputs": [
    {
     "name": "stdout",
     "output_type": "stream",
     "text": [
      "Batch: 1 Performed 1\n",
      "Batch: 2 Performed 31\n",
      "Batch: 3 Performed 61\n",
      "Batch: 4 Performed 91\n"
     ]
    },
    {
     "data": {
      "text/plain": [
       "(0,\n",
       " 2         Roll No. Batch\n",
       " 121  2001430100123    G5\n",
       " 122  2001430100124    G5\n",
       " 123  2001430100125    G5\n",
       " 124  2001430100127    G5\n",
       " 125  2001430100128    G5\n",
       " ..             ...   ...\n",
       " 236  2001430100246    G8\n",
       " 237  2001430100247    G8\n",
       " 238  2001430100248    G8\n",
       " 239  2001430100249    G8\n",
       " 240  2001430100250    G8\n",
       " \n",
       " [120 rows x 2 columns])"
      ]
     },
     "execution_count": 132,
     "metadata": {},
     "output_type": "execute_result"
    }
   ],
   "source": [
    "df, len_df = preprocessData(path)\n",
    "makeGroups(df, len_df, \"5-2-2024\", \"Python\", \"Lab 9\" ,aktu=1, initalize=1)"
   ]
  },
  {
   "cell_type": "code",
   "execution_count": 128,
   "metadata": {},
   "outputs": [],
   "source": [
    "batch_no=0\n",
    "ic=1"
   ]
  },
  {
   "cell_type": "code",
   "execution_count": 37,
   "metadata": {},
   "outputs": [
    {
     "ename": "NameError",
     "evalue": "name 'batch_no' is not defined",
     "output_type": "error",
     "traceback": [
      "\u001b[1;31m---------------------------------------------------------------------------\u001b[0m",
      "\u001b[1;31mNameError\u001b[0m                                 Traceback (most recent call last)",
      "\u001b[1;32me:\\Users\\HP\\Desktop\\aalix clg\\projects\\IMSECCSE\\practical schedular\\practical.ipynb Cell 19\u001b[0m line \u001b[0;36m1\n\u001b[1;32m----> <a href='vscode-notebook-cell:/e%3A/Users/HP/Desktop/aalix%20clg/projects/IMSECCSE/practical%20schedular/practical.ipynb#X24sZmlsZQ%3D%3D?line=0'>1</a>\u001b[0m isAlloted(\u001b[39m\"\u001b[39m\u001b[39mPython\u001b[39m\u001b[39m\"\u001b[39m, \u001b[39m\"\u001b[39m\u001b[39mLab 9\u001b[39m\u001b[39m\"\u001b[39m, \u001b[39m\"\u001b[39m\u001b[39m5-2-2024\u001b[39m\u001b[39m\"\u001b[39m, \u001b[39mf\u001b[39m\u001b[39m\"\u001b[39m\u001b[39mG\u001b[39m\u001b[39m{\u001b[39;00mbatch_no\u001b[39m-\u001b[39m\u001b[39m1\u001b[39m\u001b[39m}\u001b[39;00m\u001b[39m\"\u001b[39m)\n",
      "\u001b[1;31mNameError\u001b[0m: name 'batch_no' is not defined"
     ]
    }
   ],
   "source": [
    "isAlloted(\"Python\", \"Lab 9\", \"5-2-2024\", f\"G{batch_no-1}\")"
   ]
  },
  {
   "cell_type": "code",
   "execution_count": 129,
   "metadata": {},
   "outputs": [
    {
     "data": {
      "text/html": [
       "<div>\n",
       "<style scoped>\n",
       "    .dataframe tbody tr th:only-of-type {\n",
       "        vertical-align: middle;\n",
       "    }\n",
       "\n",
       "    .dataframe tbody tr th {\n",
       "        vertical-align: top;\n",
       "    }\n",
       "\n",
       "    .dataframe thead th {\n",
       "        text-align: right;\n",
       "    }\n",
       "</style>\n",
       "<table border=\"1\" class=\"dataframe\">\n",
       "  <thead>\n",
       "    <tr style=\"text-align: right;\">\n",
       "      <th></th>\n",
       "      <th></th>\n",
       "      <th></th>\n",
       "      <th></th>\n",
       "      <th></th>\n",
       "      <th></th>\n",
       "      <th>Groups</th>\n",
       "    </tr>\n",
       "  </thead>\n",
       "  <tbody>\n",
       "    <tr>\n",
       "      <th rowspan=\"8\" valign=\"top\">KCS751A</th>\n",
       "      <th rowspan=\"4\" valign=\"top\">Lab 5</th>\n",
       "      <th rowspan=\"4\" valign=\"top\">5-2-24</th>\n",
       "      <th rowspan=\"4\" valign=\"top\">NaN</th>\n",
       "      <th rowspan=\"4\" valign=\"top\">NaN</th>\n",
       "      <th>9:00-10:30</th>\n",
       "      <td>G1</td>\n",
       "    </tr>\n",
       "    <tr>\n",
       "      <th>10:30-12:00</th>\n",
       "      <td>G2</td>\n",
       "    </tr>\n",
       "    <tr>\n",
       "      <th>1:00-2:30</th>\n",
       "      <td>G3</td>\n",
       "    </tr>\n",
       "    <tr>\n",
       "      <th>2:30-4:00</th>\n",
       "      <td>G4</td>\n",
       "    </tr>\n",
       "    <tr>\n",
       "      <th rowspan=\"4\" valign=\"top\">Lab Y</th>\n",
       "      <th rowspan=\"4\" valign=\"top\">Yet_To_be_Decided</th>\n",
       "      <th rowspan=\"4\" valign=\"top\">NaN</th>\n",
       "      <th rowspan=\"4\" valign=\"top\">NaN</th>\n",
       "      <th>9:00-10:30</th>\n",
       "      <td>G5</td>\n",
       "    </tr>\n",
       "    <tr>\n",
       "      <th>10:30-12:00</th>\n",
       "      <td>G6</td>\n",
       "    </tr>\n",
       "    <tr>\n",
       "      <th>1:00-2:30</th>\n",
       "      <td>G7</td>\n",
       "    </tr>\n",
       "    <tr>\n",
       "      <th>2:30-4:00</th>\n",
       "      <td>G8</td>\n",
       "    </tr>\n",
       "  </tbody>\n",
       "</table>\n",
       "</div>"
      ],
      "text/plain": [
       "                                                    Groups\n",
       "KCS751A Lab 5 5-2-24            NaN NaN 9:00-10:30      G1\n",
       "                                        10:30-12:00     G2\n",
       "                                        1:00-2:30       G3\n",
       "                                        2:30-4:00       G4\n",
       "        Lab Y Yet_To_be_Decided NaN NaN 9:00-10:30      G5\n",
       "                                        10:30-12:00     G6\n",
       "                                        1:00-2:30       G7\n",
       "                                        2:30-4:00       G8"
      ]
     },
     "execution_count": 129,
     "metadata": {},
     "output_type": "execute_result"
    }
   ],
   "source": [
    "display_dir()"
   ]
  },
  {
   "cell_type": "code",
   "execution_count": 38,
   "metadata": {},
   "outputs": [],
   "source": [
    "def chkoutliner(roll):\n",
    "    if f\"{session[-2:]}014301\" not in str(roll):\n",
    "        return True\n",
    "    return False\n",
    "\n",
    "def joinoutliner(otr, grp):\n",
    "    \"Join the outliners to the group\"\n",
    "    a = \"\"\n",
    "    for i in otr:\n",
    "        a+=i+\", \"\n",
    "    a=a[:-2]+\"\\n\"\n",
    "    result = a+ f\"{min(grp)} - {max(grp)}\"\n",
    "    return result"
   ]
  },
  {
   "cell_type": "code",
   "execution_count": 135,
   "metadata": {},
   "outputs": [],
   "source": [
    "def rangeGroups(uploaded, sub, lab, date, len_df):\n",
    "    global min, max\n",
    "    ranges = []\n",
    "    df = pd.read_excel(f\"./data/Alloted/{sub} {lab} {date}.xlsx\")\n",
    "    df.index = [i+1 for i in range(len(df))]\n",
    "    df = df.astype({\"Roll No.\": str})\n",
    "    try:\n",
    "        G1 = df[df[\"Batch\"]==\"G1\"]\n",
    "        pre = list(G1[G1[\"Roll No.\"].apply(chkoutliner)].to_dict()[\"Roll No.\"].values())\n",
    "        G1 = set(G1[\"Roll No.\"].to_list()) - set(pre)\n",
    "        G1 = list(G1)\n",
    "        G1.sort()\n",
    "        ranges.append([\"G1\", joinoutliner(pre, G1), len(G1)+len(pre)])\n",
    "    except Exception as e:\n",
    "        print(e.__class__)\n",
    "    for i in df[\"Batch\"].value_counts().to_dict().keys():\n",
    "        if i!=\"G1\":\n",
    "            exec(f\"{i} = list(df[df['Batch']=='{i}'].to_dict()['Roll No.'].values())\")\n",
    "            Max, Min, Total = eval(f\"max({i})\"), eval(f\"min({i})\"), eval(f\"len({i})\")\n",
    "            ranges.append([f'{i}', f\"{Min} - {Max}\", Total])\n",
    "    df = pd.read_excel(\"./data/output.xlsx\", sheet_name=\"Groups\")\n",
    "    total_performed = df[\"Total Students\"].sum()\n",
    "    if total_performed in [240, 220, 200] and len_df>total_performed:\n",
    "        otr = list(uploaded[total_performed+1:])\n",
    "        ranges.append([\"Other Deptartment\", f\"{min(otr)} - {max(otr)}\", len(otr)])\n",
    "    df = pd.DataFrame(ranges, columns=[\"Group\", \"Roll No. Range\", \"Total Students\"])\n",
    "    return df"
   ]
  },
  {
   "cell_type": "code",
   "execution_count": 140,
   "metadata": {},
   "outputs": [],
   "source": [
    "df = preprocessData(path)[0]"
   ]
  },
  {
   "cell_type": "code",
   "execution_count": 148,
   "metadata": {},
   "outputs": [
    {
     "data": {
      "text/plain": [
       "254"
      ]
     },
     "execution_count": 148,
     "metadata": {},
     "output_type": "execute_result"
    }
   ],
   "source": [
    "df = pd.read_excel(\"./data/output.xlsx\", sheet_name=\"Groups\")\n",
    "df[\"Total Students\"].sum()"
   ]
  },
  {
   "cell_type": "markdown",
   "metadata": {},
   "source": [
    "Till now the decision of roll No. range is done"
   ]
  },
  {
   "cell_type": "code",
   "execution_count": 85,
   "metadata": {},
   "outputs": [
    {
     "name": "stdout",
     "output_type": "stream",
     "text": [
      "<class 'KeyError'>\n"
     ]
    },
    {
     "data": {
      "text/html": [
       "<div>\n",
       "<style scoped>\n",
       "    .dataframe tbody tr th:only-of-type {\n",
       "        vertical-align: middle;\n",
       "    }\n",
       "\n",
       "    .dataframe tbody tr th {\n",
       "        vertical-align: top;\n",
       "    }\n",
       "\n",
       "    .dataframe thead th {\n",
       "        text-align: right;\n",
       "    }\n",
       "</style>\n",
       "<table border=\"1\" class=\"dataframe\">\n",
       "  <thead>\n",
       "    <tr style=\"text-align: right;\">\n",
       "      <th></th>\n",
       "      <th>Group</th>\n",
       "      <th>Roll No. Range</th>\n",
       "      <th>Total Students</th>\n",
       "    </tr>\n",
       "  </thead>\n",
       "  <tbody>\n",
       "    <tr>\n",
       "      <th>0</th>\n",
       "      <td>G5</td>\n",
       "      <td>2101430100135 - 2101430100165</td>\n",
       "      <td>30</td>\n",
       "    </tr>\n",
       "    <tr>\n",
       "      <th>1</th>\n",
       "      <td>G6</td>\n",
       "      <td>2101430100166 - 2101430100200</td>\n",
       "      <td>30</td>\n",
       "    </tr>\n",
       "    <tr>\n",
       "      <th>2</th>\n",
       "      <td>G7</td>\n",
       "      <td>2101430100201 - 2201430109018</td>\n",
       "      <td>25</td>\n",
       "    </tr>\n",
       "  </tbody>\n",
       "</table>\n",
       "</div>"
      ],
      "text/plain": [
       "  Group                 Roll No. Range  Total Students\n",
       "0    G5  2101430100135 - 2101430100165              30\n",
       "1    G6  2101430100166 - 2101430100200              30\n",
       "2    G7  2101430100201 - 2201430109018              25"
      ]
     },
     "execution_count": 85,
     "metadata": {},
     "output_type": "execute_result"
    }
   ],
   "source": [
    "rangeGroups(\n",
    "    date=\"08-02-2024\",\n",
    "    sub=\"KCS553\",\n",
    "    lab=\"Lab 6\",\n",
    "    initalize=1\n",
    ")\n",
    "# ).to_excel(\"./data/a.xlsx\", index=False)"
   ]
  },
  {
   "cell_type": "code",
   "execution_count": 15,
   "metadata": {},
   "outputs": [],
   "source": [
    "slots = {\n",
    "    0:\"9:00-10:30\",\n",
    "    1:\"10:30-12:00\",\n",
    "    2:\"1:00-2:30\",\n",
    "    3:\"2:30-4:00\"\n",
    "}"
   ]
  },
  {
   "cell_type": "code",
   "execution_count": 69,
   "metadata": {},
   "outputs": [],
   "source": [
    "## Make scedule for single subject\n",
    "def makeSchedule(sub, date, lab, initalize=0):\n",
    "    global batch_no\n",
    "    Batch_no = batch_no\n",
    "    if initalize==1:\n",
    "        Batch_no=1\n",
    "    print(Batch_no, sub, lab, date, f\"G{Batch_no}\")\n",
    "    df = pd.DataFrame([[np.nan for _ in range(4)] for _ in range(4)], columns=[\"Date\", \"Time\", \"Subject\", \"Group\"], index=np.arange(1, 5))\n",
    "    allocation = isAlloted(sub, lab, date, f\"G{Batch_no}\")\n",
    "    print(allocation)\n",
    "    if type(allocation)==type(()):\n",
    "        grps_path = allocation[1]\n",
    "        grps = list(pd.read_excel(grps_path)[\"Batch\"].value_counts().to_dict().keys())\n",
    "        print(grps)\n",
    "        for i in range(1, 5):\n",
    "            df.loc[i, \"Date\"] = date\n",
    "            df.loc[i, \"Time\"] = slots[i-1]\n",
    "            df.loc[i, \"Subject\"] = sub\n",
    "            df.loc[i, \"Group\"] = grps[i-1]\n",
    "        df[\"Internal Faculty\"] = [np.nan]*4\n",
    "        df[\"External Faculty\"] = [np.nan]*4\n",
    "    return df"
   ]
  },
  {
   "cell_type": "code",
   "execution_count": 70,
   "metadata": {},
   "outputs": [
    {
     "name": "stdout",
     "output_type": "stream",
     "text": [
      "8 AI Lab 9 5-4-2024 G8\n"
     ]
    },
    {
     "name": "stdout",
     "output_type": "stream",
     "text": [
      "(1, './data/Alloted/AI Lab 9 5-4-2024.xlsx')\n",
      "['G5', 'G6', 'G7', 'G8']\n"
     ]
    },
    {
     "data": {
      "text/html": [
       "<div>\n",
       "<style scoped>\n",
       "    .dataframe tbody tr th:only-of-type {\n",
       "        vertical-align: middle;\n",
       "    }\n",
       "\n",
       "    .dataframe tbody tr th {\n",
       "        vertical-align: top;\n",
       "    }\n",
       "\n",
       "    .dataframe thead th {\n",
       "        text-align: right;\n",
       "    }\n",
       "</style>\n",
       "<table border=\"1\" class=\"dataframe\">\n",
       "  <thead>\n",
       "    <tr style=\"text-align: right;\">\n",
       "      <th></th>\n",
       "      <th>Date</th>\n",
       "      <th>Time</th>\n",
       "      <th>Subject</th>\n",
       "      <th>Group</th>\n",
       "      <th>Internal Faculty</th>\n",
       "      <th>External Faculty</th>\n",
       "    </tr>\n",
       "  </thead>\n",
       "  <tbody>\n",
       "    <tr>\n",
       "      <th>1</th>\n",
       "      <td>5-4-2024</td>\n",
       "      <td>9:00-10:30</td>\n",
       "      <td>AI</td>\n",
       "      <td>G5</td>\n",
       "      <td>NaN</td>\n",
       "      <td>NaN</td>\n",
       "    </tr>\n",
       "    <tr>\n",
       "      <th>2</th>\n",
       "      <td>5-4-2024</td>\n",
       "      <td>10:30-12:00</td>\n",
       "      <td>AI</td>\n",
       "      <td>G6</td>\n",
       "      <td>NaN</td>\n",
       "      <td>NaN</td>\n",
       "    </tr>\n",
       "    <tr>\n",
       "      <th>3</th>\n",
       "      <td>5-4-2024</td>\n",
       "      <td>1:00-2:30</td>\n",
       "      <td>AI</td>\n",
       "      <td>G7</td>\n",
       "      <td>NaN</td>\n",
       "      <td>NaN</td>\n",
       "    </tr>\n",
       "    <tr>\n",
       "      <th>4</th>\n",
       "      <td>5-4-2024</td>\n",
       "      <td>2:30-4:00</td>\n",
       "      <td>AI</td>\n",
       "      <td>G8</td>\n",
       "      <td>NaN</td>\n",
       "      <td>NaN</td>\n",
       "    </tr>\n",
       "  </tbody>\n",
       "</table>\n",
       "</div>"
      ],
      "text/plain": [
       "       Date         Time Subject Group  Internal Faculty  External Faculty\n",
       "1  5-4-2024   9:00-10:30      AI    G5               NaN               NaN\n",
       "2  5-4-2024  10:30-12:00      AI    G6               NaN               NaN\n",
       "3  5-4-2024    1:00-2:30      AI    G7               NaN               NaN\n",
       "4  5-4-2024    2:30-4:00      AI    G8               NaN               NaN"
      ]
     },
     "execution_count": 70,
     "metadata": {},
     "output_type": "execute_result"
    }
   ],
   "source": [
    "makeSchedule(\"AI\", \"5-4-2024\", \"Lab 9\", initalize=0)"
   ]
  },
  {
   "cell_type": "code",
   "execution_count": 206,
   "metadata": {},
   "outputs": [],
   "source": [
    "def rangeGroups(sub, lab, date, len_df):\n",
    "    global min, max\n",
    "    ranges = []\n",
    "    df = pd.read_excel(f\"./data/Alloted/{sub} {lab} {date}.xlsx\")\n",
    "    df.index = [i+1 for i in range(len(df))]\n",
    "    df = df.astype({\"Roll No.\": str})\n",
    "    try:\n",
    "        G1 = df[df[\"Batch\"]==\"G1\"]\n",
    "        pre = list(G1[G1[\"Roll No.\"].apply(chkoutliner)].to_dict()[\"Roll No.\"].values())\n",
    "        G1 = set(G1[\"Roll No.\"].to_list()) - set(pre)\n",
    "        G1 = list(G1)\n",
    "        G1.sort()\n",
    "        ranges.append([\"G1\", joinoutliner(pre, G1), len(G1)+len(pre)])\n",
    "    except Exception as e:\n",
    "        print(e.__class__)\n",
    "    for i in df[\"Batch\"].value_counts().to_dict().keys():\n",
    "        if i!=\"G1\":\n",
    "            exec(f\"{i} = list(df[df['Batch']=='{i}'].to_dict()['Roll No.'].values())\")\n",
    "            Max, Min, Total = eval(f\"max({i})\"), eval(f\"min({i})\"), eval(f\"len({i})\")\n",
    "            ranges.append([f'{i}', f\"{Min} - {Max}\", Total])\n",
    "    if int(i[1])>=len_df//30:\n",
    "        ranges.pop()\n",
    "        G = df[df[\"Batch\"]==f\"{i}\"]\n",
    "        # print(G.tail())\n",
    "        lat = list(G[G['Roll No.'].apply(chkoutliner)].to_dict()[\"Roll No.\"].values())\n",
    "        G = set(G[\"Roll No.\"].to_list()) - set(lat)\n",
    "        G = list(G)\n",
    "        G.sort()\n",
    "        ranges.append([i, joinoutliner(lat, G), len(G)+len(lat)])\n",
    "    df = pd.DataFrame(ranges, columns=[\"Group\", \"Roll No. Range\", \"Total Students\"])\n",
    "    return df\n"
   ]
  },
  {
   "cell_type": "code",
   "execution_count": 152,
   "metadata": {},
   "outputs": [],
   "source": [
    "# updates groups\n",
    "if os.path.exists(\"./data/groups.xlsx\"):\n",
    "    df1 = pd.read_excel(\"./data/groups.xlsx\", sheet_name=\"Groups\")\n",
    "df2 = pd.read_excel(\"./data/output.xlsx\", sheet_name=\"ouput\")"
   ]
  }
 ],
 "metadata": {
  "kernelspec": {
   "display_name": "ims",
   "language": "python",
   "name": "python3"
  },
  "language_info": {
   "codemirror_mode": {
    "name": "ipython",
    "version": 3
   },
   "file_extension": ".py",
   "mimetype": "text/x-python",
   "name": "python",
   "nbconvert_exporter": "python",
   "pygments_lexer": "ipython3",
   "version": "3.8.5"
  }
 },
 "nbformat": 4,
 "nbformat_minor": 2
}
